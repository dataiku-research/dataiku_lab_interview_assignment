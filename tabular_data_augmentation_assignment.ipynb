{
 "cells": [
  {
   "attachments": {},
   "cell_type": "markdown",
   "metadata": {},
   "source": [
    "# Tabular Data Augmentation - Credit Card Dataset"
   ]
  },
  {
   "attachments": {},
   "cell_type": "markdown",
   "metadata": {},
   "source": [
    "This notebook contains a ML assignment as a part of the recruitment process at the Dataiku Lab.\n",
    "\n",
    "The cells will walk you through the questions and parts of code to complete/comment. \n",
    "\n",
    "If a question is not marked as [OPTIONAL], this means it is mandatory to answer, and it might be necessary in order to run the subsequent cells of the notebook. [OPTIONAL] questions can be skipped. \n",
    "\n",
    "Answering the mandatory questions should take around 2 hours. Answering all questions should take around 4 hours.\n",
    "\n",
    "Pay attention to the `#TODO` tags and good work!"
   ]
  },
  {
   "cell_type": "code",
   "execution_count": 1,
   "metadata": {},
   "outputs": [],
   "source": [
    "import pandas as pd\n",
    "import numpy as np\n",
    "import torch\n",
    "from torch import nn\n",
    "from torch import optim\n",
    "from torch.utils.data import DataLoader\n",
    "from sklearn.preprocessing import StandardScaler\n",
    "from sklearn.model_selection import train_test_split\n",
    "from matplotlib import pyplot as plt"
   ]
  },
  {
   "cell_type": "code",
   "execution_count": 2,
   "metadata": {},
   "outputs": [],
   "source": [
    "seed = 42\n",
    "np.random.seed(seed)"
   ]
  },
  {
   "attachments": {},
   "cell_type": "markdown",
   "metadata": {},
   "source": [
    "### Load Data"
   ]
  },
  {
   "cell_type": "code",
   "execution_count": null,
   "metadata": {},
   "outputs": [],
   "source": [
    "DATA_PATH = 'data/creditcard.csv'\n",
    "df = pd.read_csv(DATA_PATH)\n",
    "\n",
    "df.head()"
   ]
  },
  {
   "attachments": {},
   "cell_type": "markdown",
   "metadata": {},
   "source": [
    "Preprocess data for training"
   ]
  },
  {
   "cell_type": "code",
   "execution_count": 4,
   "metadata": {},
   "outputs": [],
   "source": [
    "target = 'Class'\n",
    "X_train_df, X_test_df, y_train, y_test = train_test_split(df.drop(target, axis=1), df[target], test_size=0.3, random_state=seed)\n",
    "\n",
    "x_scaler = StandardScaler()\n",
    "X_train = x_scaler.fit_transform(X_train_df)\n",
    "\n",
    "X_test = x_scaler.transform(X_test_df)\n"
   ]
  },
  {
   "attachments": {},
   "cell_type": "markdown",
   "metadata": {},
   "source": [
    "Q1. What could be said regarding the class balance? Compute the `difference_in_class_occurences`"
   ]
  },
  {
   "cell_type": "code",
   "execution_count": null,
   "metadata": {},
   "outputs": [],
   "source": [
    "difference_in_class_occurences = #TODO"
   ]
  },
  {
   "attachments": {},
   "cell_type": "markdown",
   "metadata": {},
   "source": [
    "### Train Data Synthesizer and Augment Data"
   ]
  },
  {
   "attachments": {},
   "cell_type": "markdown",
   "metadata": {},
   "source": [
    "In the following you can find an implementation of the Tabular Variational Auto Encoder, a model used to synthesize tabular data."
   ]
  },
  {
   "cell_type": "code",
   "execution_count": 6,
   "metadata": {},
   "outputs": [],
   "source": [
    "import torch\n",
    "import torch.nn as nn\n",
    "import torch.nn.functional as F\n",
    "from torch import nn\n",
    "from torch.autograd import Variable\n",
    "    \n",
    "\n",
    "class TVAE(nn.Module):\n",
    "    \"\"\" Tabular Variational Auto Encoder\n",
    "    \"\"\"\n",
    "    def __init__(self, D_in:int, lin_layers:list, latent_dim:int=3):\n",
    "       \n",
    "        #Encoder\n",
    "        super(TVAE,self).__init__()\n",
    "        no = [D_in] + lin_layers\n",
    "        list_of_layers = [\n",
    "            nn.Sequential(nn.Linear(no[i], no[i+1]), nn.BatchNorm1d(no[i+1]), nn.ReLU())\n",
    "            for i in range(len(no)-1)\n",
    "            ]\n",
    "        self.encoder = nn.Sequential(*list_of_layers)\n",
    "        self.out_features_ = self.encoder[-1][0].out_features\n",
    "        \n",
    "        # Latent vectors mu and sigma\n",
    "        self.fc1 = nn.Linear(self.out_features_, latent_dim)\n",
    "        self.bn1 = nn.BatchNorm1d(num_features=latent_dim)\n",
    "        self.fc21 = nn.Linear(latent_dim, latent_dim)\n",
    "        self.fc22 = nn.Linear(latent_dim, latent_dim)\n",
    "\n",
    "        # Sampling vector\n",
    "        self.fc3 = nn.Linear(latent_dim, latent_dim)\n",
    "        self.fc_bn3 = nn.BatchNorm1d(latent_dim)\n",
    "        self.fc4 = nn.Linear(latent_dim, self.out_features_)\n",
    "        self.fc_bn4 = nn.BatchNorm1d(self.out_features_)\n",
    "        \n",
    "        # Decoder\n",
    "        no =  lin_layers[::-1] + [D_in]\n",
    "        list_of_layers= [\n",
    "            nn.Sequential(nn.Linear(no[i], no[i+1]), nn.BatchNorm1d(no[i+1]), nn.ReLU())\n",
    "            for i in range(len(no)-1)\n",
    "            ]\n",
    "        # no ReLU in the last layer\n",
    "        list_of_layers[-1] = list_of_layers[-1][:-1]\n",
    "        self.decoder = nn.Sequential(*list_of_layers)\n",
    "        \n",
    "    def encode(self, x):\n",
    "\n",
    "        fc1 = F.relu(self.bn1(self.fc1(self.encoder(x))))\n",
    "        r1 = self.fc21(fc1)\n",
    "        r2 = self.fc22(fc1)\n",
    "        \n",
    "        return r1, r2\n",
    "    \n",
    "    def reparameterize(self, mu, logvar):\n",
    "        if self.training:\n",
    "            std = logvar.mul(0.5).exp_()\n",
    "            eps = Variable(std.data.new(std.size()).normal_())\n",
    "            return eps.mul(std).add_(mu)\n",
    "        else:\n",
    "            return mu\n",
    "        \n",
    "    def decode(self, z):\n",
    "        fc3 = F.relu(self.fc_bn3(self.fc3(z)))\n",
    "        fc4 = F.relu(self.fc_bn4(self.fc4(fc3)))\n",
    "\n",
    "        return self.decoder(fc4)\n",
    "        \n",
    "    def forward(self, x):\n",
    "        mu, logvar = self.encode(x)\n",
    "        z = self.reparameterize(mu, logvar)\n",
    "        return self.decode(z), mu, logvar"
   ]
  },
  {
   "attachments": {},
   "cell_type": "markdown",
   "metadata": {},
   "source": [
    "[OPTIONAL] Q2: What does the `reparametrize` function do during training? Why this behavior is disabled at inference?"
   ]
  },
  {
   "cell_type": "code",
   "execution_count": null,
   "metadata": {},
   "outputs": [],
   "source": []
  },
  {
   "attachments": {},
   "cell_type": "markdown",
   "metadata": {},
   "source": [
    "The next cell implement the loss we need to minimize to train the TVAE. It's composed of two losses: the Mean Squared Error loss and the Kullback-Liebler Divergence loss. \n",
    "* Q3. Complete the implementation of the MSE loss\n",
    "* Q4. Explain what the MSE loss measures and why we want it to be low\n",
    "* [OPTIONAL] Q5. The expression `loss_KLD = -0.5 * torch.sum(1 + logvar - mu.pow(2) - logvar.exp())` is the analytical expression of the KL divergence between two Gaussian distributions: $\\mathcal{N}(mu, e^{logvar})$ and $\\mathcal{N}(0, 1)$. Explain what the KLD loss measures and why we want it to be low. \n",
    "* [OPTIONAL] Q6. What could be an alternative implementation of `loss_KLD` using losses available in torch? In case you didn't know there was an analytical expression for it."
   ]
  },
  {
   "cell_type": "code",
   "execution_count": null,
   "metadata": {},
   "outputs": [],
   "source": [
    "class customLoss(nn.Module):\n",
    "    def __init__(self):\n",
    "        super(customLoss, self).__init__()\n",
    "        self.mse_loss = # TODO\n",
    "    \n",
    "    def forward(self, x_recon, x, mu, logvar):\n",
    "        loss_MSE = self.mse_loss(x_recon, x)\n",
    "        loss_KLD = -0.5 * torch.sum(1 + logvar - mu.pow(2) - logvar.exp())\n",
    "        \n",
    "        return loss_MSE + loss_KLD"
   ]
  },
  {
   "cell_type": "code",
   "execution_count": null,
   "metadata": {},
   "outputs": [],
   "source": []
  },
  {
   "attachments": {},
   "cell_type": "markdown",
   "metadata": {},
   "source": [
    "Let's prepare the training data for the TVAE containing only the fraud class"
   ]
  },
  {
   "cell_type": "code",
   "execution_count": 8,
   "metadata": {},
   "outputs": [],
   "source": [
    "X_train_fraud = X_train[y_train==1]\n",
    "X_test_fraud = X_test[y_test==1]"
   ]
  },
  {
   "attachments": {},
   "cell_type": "markdown",
   "metadata": {},
   "source": [
    "Now, let's instantiate the synthesizer model and train on fraud data. \n",
    "\n",
    "Q7. What is the input dimensions of the model? Complete below."
   ]
  },
  {
   "cell_type": "code",
   "execution_count": null,
   "metadata": {},
   "outputs": [],
   "source": [
    "D_in = # TODO"
   ]
  },
  {
   "cell_type": "code",
   "execution_count": 10,
   "metadata": {},
   "outputs": [],
   "source": [
    "\n",
    "device = torch.device('cuda' if torch.cuda.is_available() else 'cpu')\n",
    "\n",
    "layers_in = [64, 32]\n",
    "latent_dim = 16\n",
    "\n",
    "model_vae = TVAE(D_in, layers_in, latent_dim=latent_dim).to(device)\n",
    "\n",
    "opt = optim.Adam(model_vae.parameters(), lr=0.01)\n",
    "\n",
    "loss_func = customLoss()"
   ]
  },
  {
   "attachments": {},
   "cell_type": "markdown",
   "metadata": {},
   "source": [
    "Run the training loop below and check the loss behavior."
   ]
  },
  {
   "cell_type": "code",
   "execution_count": null,
   "metadata": {},
   "outputs": [],
   "source": [
    "n_epochs = 100 \n",
    "batch_size = 64\n",
    "\n",
    "x = torch.tensor(X_train_fraud.astype('float32'))\n",
    "x_test = torch.tensor(X_test_fraud.astype('float32'))\n",
    "\n",
    "training_loader = DataLoader(x, batch_size=batch_size, shuffle=True, num_workers=1)\n",
    "validation_loader = DataLoader(x_test, batch_size=batch_size, shuffle=False, num_workers=1)\n",
    "\n",
    "loss_by_epoch = []\n",
    "vloss_by_epoch = []\n",
    "\n",
    "for epoch in range(n_epochs):\n",
    "    \n",
    "    model_vae.train(True)\n",
    "    \n",
    "    running_loss = 0.\n",
    "\n",
    "    for i, x_batch in enumerate(training_loader):\n",
    "        opt.zero_grad()\n",
    "        recon, mu, logvar = model_vae(x_batch)\n",
    "        # Compute the loss and its gradients\n",
    "        loss = loss_func(recon, x_batch, mu, logvar)\n",
    "        loss.backward()\n",
    "        # Adjust learning weights\n",
    "        opt.step()\n",
    "\n",
    "        # Gather data and report\n",
    "        running_loss += loss.item()\n",
    "        \n",
    "    avg_loss = running_loss / (i + 1)\n",
    "    \n",
    "    if epoch % 20==0:\n",
    "        model_vae.train(False)\n",
    "\n",
    "        running_vloss = 0.0\n",
    "        for i, vdata in enumerate(validation_loader):\n",
    "            vinputs = vdata\n",
    "            voutputs, vmu, vlogvar = model_vae(vinputs)\n",
    "            vloss = loss_func(voutputs, vinputs, vmu, vlogvar)\n",
    "            running_vloss += vloss\n",
    "\n",
    "        avg_vloss = running_vloss / (i + 1)\n",
    "        print('Epoch {} - LOSS train {} valid {}'.format(epoch, avg_loss, avg_vloss))\n",
    "        model_vae.train(True)\n",
    "    else:\n",
    "        print('Epoch {} - LOSS train {}'.format(epoch, avg_loss))\n",
    "        \n",
    "    loss_by_epoch.append(avg_loss)\n",
    "    vloss_by_epoch.append(avg_vloss.cpu().detach().numpy())\n",
    "    \n",
    "    "
   ]
  },
  {
   "cell_type": "code",
   "execution_count": null,
   "metadata": {},
   "outputs": [],
   "source": [
    "plt.plot(loss_by_epoch, label='train loss')\n",
    "plt.plot(vloss_by_epoch, color='darkorange', label='val loss')\n",
    "plt.legend();"
   ]
  },
  {
   "attachments": {},
   "cell_type": "markdown",
   "metadata": {},
   "source": [
    "### Generate data"
   ]
  },
  {
   "attachments": {},
   "cell_type": "markdown",
   "metadata": {},
   "source": [
    "The function below uses the trained TVAE to generate synthetic data, sampling from a Gaussian distribution with specific mean and variance. The drawn samples are then decoded and mapped into the input space as synthetic new samples. \n",
    "* Q8. What are the mean and variance of the Gaussian distribution we sample from?\n",
    "* [OPTIONAL] Q9. What other kind of sampling we could do to generate new latent vectors and then new input samples?"
   ]
  },
  {
   "cell_type": "code",
   "execution_count": 13,
   "metadata": {},
   "outputs": [],
   "source": [
    "def generate_data(model_vae, opt, training_loader, no_samples:int):\n",
    "    # get embeddings\n",
    "    with torch.no_grad():\n",
    "        for batch_idx, xb in enumerate(training_loader):\n",
    "            opt.zero_grad()\n",
    "            _, mu_, logvar_ = model_vae(xb)\n",
    "            if batch_idx==0:\n",
    "                mu=mu_\n",
    "                logvar=logvar_\n",
    "            else:\n",
    "                mu=torch.cat((mu, mu_), dim=0)\n",
    "                logvar=torch.cat((logvar, logvar_), dim=0)\n",
    "\n",
    "    # sample from distribution defined by embeddings\n",
    "    sigma = torch.exp(logvar/2)\n",
    "    q = torch.distributions.Normal(mu.mean(axis=0), sigma.mean(axis=0))\n",
    "    z = q.rsample(sample_shape=torch.Size([no_samples]))\n",
    "\n",
    "    with torch.no_grad():\n",
    "        pred = model_vae.decode(z).cpu().numpy()\n",
    "\n",
    "    return pred"
   ]
  },
  {
   "cell_type": "code",
   "execution_count": null,
   "metadata": {},
   "outputs": [],
   "source": []
  },
  {
   "attachments": {},
   "cell_type": "markdown",
   "metadata": {},
   "source": [
    "Now, generate `difference_in_class_occurences` new fraud samples, so to have a balanced training set."
   ]
  },
  {
   "cell_type": "code",
   "execution_count": 14,
   "metadata": {},
   "outputs": [],
   "source": [
    "X_fake_fraud = generate_data(model_vae, opt, training_loader, no_samples=difference_in_class_occurences)"
   ]
  },
  {
   "attachments": {},
   "cell_type": "markdown",
   "metadata": {},
   "source": [
    "Let's display the scatter plot the feature means of original and synthetic data.\n",
    "* [OPTIONAL] Q10. What should you expect to see in an ideal case where the synthetic data is actually from the very same distribution as real data?\n",
    "* [OPTIONAL] Q11. Are you happy with the following result or should we do better? "
   ]
  },
  {
   "cell_type": "code",
   "execution_count": null,
   "metadata": {},
   "outputs": [],
   "source": [
    "plt.scatter(X_train_fraud.mean(axis=0), X_fake_fraud.mean(axis=0))\n",
    "plt.xlabel('Features Means of Train data')\n",
    "plt.ylabel('Features Means of Synthetic data')"
   ]
  },
  {
   "cell_type": "code",
   "execution_count": null,
   "metadata": {},
   "outputs": [],
   "source": []
  },
  {
   "attachments": {},
   "cell_type": "markdown",
   "metadata": {},
   "source": [
    "### Train Prediction Model"
   ]
  },
  {
   "attachments": {},
   "cell_type": "markdown",
   "metadata": {},
   "source": [
    "Q12. Use any of the scikit-learn classifier and train a classifier on real data only to predict fraud."
   ]
  },
  {
   "cell_type": "code",
   "execution_count": null,
   "metadata": {},
   "outputs": [],
   "source": []
  },
  {
   "attachments": {},
   "cell_type": "markdown",
   "metadata": {},
   "source": [
    "Q13. Use scikit-learn metrics to check our model performance. \n",
    "\n",
    "Remember that our test set is from real data and that this is an imbalanced problem. In those cases accuracy is not the right metric to look at."
   ]
  },
  {
   "cell_type": "code",
   "execution_count": null,
   "metadata": {},
   "outputs": [],
   "source": []
  },
  {
   "attachments": {},
   "cell_type": "markdown",
   "metadata": {},
   "source": [
    "Q14. Try to use the class weights. What did you observe?"
   ]
  },
  {
   "cell_type": "code",
   "execution_count": null,
   "metadata": {},
   "outputs": [],
   "source": []
  },
  {
   "attachments": {},
   "cell_type": "markdown",
   "metadata": {},
   "source": [
    "A better calibrated model could also help your model to have performace more evenly distributed across classes. \n",
    "* [OPTIONAL] Q15. Why?\n",
    "* [OPTIONAL] Q16. Try a calibrated classifier from scikit-learn. What do you observe?"
   ]
  },
  {
   "cell_type": "code",
   "execution_count": null,
   "metadata": {},
   "outputs": [],
   "source": []
  },
  {
   "attachments": {},
   "cell_type": "markdown",
   "metadata": {},
   "source": [
    "Now let's merge real and synthetised data to train predictive models to classify fraud samples."
   ]
  },
  {
   "cell_type": "code",
   "execution_count": 20,
   "metadata": {},
   "outputs": [
    {
     "data": {
      "text/plain": [
       "(array([0., 1.]), array([199008, 199008]))"
      ]
     },
     "execution_count": 20,
     "metadata": {},
     "output_type": "execute_result"
    }
   ],
   "source": [
    "X_train_aug_vae = np.concatenate([X_train, X_fake_fraud])\n",
    "y_train_aug_vae = np.concatenate([y_train, np.ones((difference_in_class_occurences,))])\n",
    "\n",
    "np.unique(y_train_aug_vae, return_counts=True)"
   ]
  },
  {
   "attachments": {},
   "cell_type": "markdown",
   "metadata": {},
   "source": [
    "Q17. Train again you first classifier, this time on the augmented train set and evaluate its performance."
   ]
  },
  {
   "cell_type": "code",
   "execution_count": null,
   "metadata": {},
   "outputs": [],
   "source": []
  },
  {
   "attachments": {},
   "cell_type": "markdown",
   "metadata": {},
   "source": [
    "* Q18. What could we conclude for this dataset about augmenting real data with TVAE sinthetically generated data?\n",
    "* [OPTIONAL] Q19. How can we make these conclusions more robust?"
   ]
  },
  {
   "cell_type": "code",
   "execution_count": null,
   "metadata": {},
   "outputs": [],
   "source": []
  },
  {
   "attachments": {},
   "cell_type": "markdown",
   "metadata": {},
   "source": [
    "The table below shows the comparison of some tabular data synthetizers. Focus on the last two columns. \n",
    "\n",
    "The metric shown for classification problems is the F1-score, while the one used in regression problem is the R2 score. In both cases these scores represent the average performance of multiple ML models trained only on synthetised data and tested on real data. For instance for classification, the average performance of MLP, Logistic Regression, Adaboost and Decision Tree models is reported. \n",
    "\n",
    "The first row 'Identity' shows the performances for models trained only on real data instead.\n",
    "\n",
    "<center><img src=\"ctgan_results.png\" alt=\"ctgan results\" width=\"500\"/></center>\n",
    "\n"
   ]
  },
  {
   "attachments": {},
   "cell_type": "markdown",
   "metadata": {},
   "source": [
    "Do you agree with the following conclusions? Explain for each point you reasons.\n",
    " \n",
    "* Q20. The TVAE is significantly better than the CTGAN for both classification and regression, thus I should use TVAE for tabular data augmentation. \n",
    "* Q21. Regardless of the ML model I want to use to predict on my data, TVAE would be a better synthethiser than CTGAN.\n",
    "* Q22. Both the TVAE and the CTGAN are anyway much worse than Identity, there's no way I could train on data generated from TVAE nor CTGAN, my performance wouldn't be good enough. There's no practical value in using these synthesizers."
   ]
  },
  {
   "cell_type": "code",
   "execution_count": null,
   "metadata": {},
   "outputs": [],
   "source": []
  },
  {
   "attachments": {},
   "cell_type": "markdown",
   "metadata": {},
   "source": [
    "* [OPTIONAL] Q23. The TVAE used in this notebook can only work on numerical continuous variables. What could you do to make it work on categorical data? Any idea?"
   ]
  },
  {
   "cell_type": "code",
   "execution_count": null,
   "metadata": {},
   "outputs": [],
   "source": []
  }
 ],
 "metadata": {
  "interpreter": {
   "hash": "31f2aee4e71d21fbe5cf8b01ff0e069b9275f58929596ceb00d14d90e3e16cd6"
  },
  "kernelspec": {
   "display_name": "ker_tda",
   "language": "python",
   "name": "ker_tda"
  },
  "language_info": {
   "codemirror_mode": {
    "name": "ipython",
    "version": 3
   },
   "file_extension": ".py",
   "mimetype": "text/x-python",
   "name": "python",
   "nbconvert_exporter": "python",
   "pygments_lexer": "ipython3",
   "version": "3.10.8 (main, Oct 13 2022, 10:17:43) [Clang 14.0.0 (clang-1400.0.29.102)]"
  }
 },
 "nbformat": 4,
 "nbformat_minor": 2
}
